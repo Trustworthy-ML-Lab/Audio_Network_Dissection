{
 "cells": [
  {
   "cell_type": "code",
   "execution_count": 1,
   "metadata": {},
   "outputs": [
    {
     "name": "stdout",
     "output_type": "stream",
     "text": [
      "/work/yuxiang1234/sandbox-AND\n"
     ]
    }
   ],
   "source": [
    "%cd .."
   ]
  },
  {
   "cell_type": "markdown",
   "metadata": {},
   "source": [
    "## Import packages"
   ]
  },
  {
   "cell_type": "code",
   "execution_count": 2,
   "metadata": {},
   "outputs": [
    {
     "name": "stderr",
     "output_type": "stream",
     "text": [
      "/home/yuxiang1234/env/dissect/lib/python3.8/site-packages/transformers/utils/hub.py:127: FutureWarning: Using `TRANSFORMERS_CACHE` is deprecated and will be removed in v5 of Transformers. Use `HF_HOME` instead.\n",
      "  warnings.warn(\n",
      "[nltk_data] Downloading package stopwords to\n",
      "[nltk_data]     /home/yuxiang1234/nltk_data...\n",
      "[nltk_data]   Package stopwords is already up-to-date!\n"
     ]
    }
   ],
   "source": [
    "import json\n",
    "import os\n",
    "import pickle\n",
    "import random\n",
    "import sys\n",
    "from collections import defaultdict\n",
    "\n",
    "import numpy as np\n",
    "import torch\n",
    "import torch.nn.utils.prune as prune\n",
    "from pruning.audio_dataset import ESC50Dataset, collate_batch\n",
    "from datasets import load_dataset\n",
    "from torch.utils.data import DataLoader\n",
    "from tqdm import tqdm\n",
    "from transformers import AutoProcessor\n",
    "\n",
    "from args import parser\n",
    "from data_utils import (get_label_to_cls, get_target_model, read_json, get_cls_label, mean)\n",
    "from sentence_utils import get_basename\n"
   ]
  },
  {
   "cell_type": "markdown",
   "metadata": {},
   "source": [
    "### Arguments"
   ]
  },
  {
   "cell_type": "code",
   "execution_count": 7,
   "metadata": {},
   "outputs": [],
   "source": [
    "class Arguments:\n",
    "    def __init__(self):\n",
    "\n",
    "        self.target_name = \"ast-esc50\" # Model to dissect (target model)\n",
    "        \n",
    "        self.target_layers = \"layer0_output,layer0_intermediate,layer0_attention_output, \\\n",
    "                        \t  layer1_output,layer1_intermediate,layer1_attention_output, \\\n",
    "                              layer2_output,layer2_intermediate,layer2_attention_output, \\\n",
    "                              layer3_output,layer3_intermediate,layer3_attention_output, \\\n",
    "                              layer4_output,layer4_intermediate,layer4_attention_output, \\\n",
    "                              layer5_output,layer5_intermediate,layer5_attention_output, \\\n",
    "                              layer6_output,layer6_intermediate,layer6_attention_output, \\\n",
    "                              layer7_output,layer7_intermediate,layer7_attention_output, \\\n",
    "                              layer8_output,layer8_intermediate,layer8_attention_output, \\\n",
    "                              layer9_output,layer9_intermediate,layer9_attention_output, \\\n",
    "                              layer10_output,layer10_intermediate,layer10_attention_output, \\\n",
    "                              layer11_output,layer11_intermediate,layer11_attention_output\"\n",
    "        # Which layer neurons to describe. String list of layer names to describe, separated by comma (no spaces). \n",
    "        # Follows the naming format of the Pytorch module used.\n",
    "\n",
    "        # For beats\n",
    "        # self.target_layers = \"layer0_1,layer0_2,layer1_1,layer1_2,layer2_1,layer2_2,layer3_1,layer3_2,layer4_1,layer4_2,layer5_1,layer5_2,layer6_1,layer6_2,layer7_1,layer7_2,layer8_1,layer8_2,layer9_1,layer9_2,layer10_1,layer10_2,layer11_1,layer11_2\"\n",
    "        \n",
    "        self.probing_dataset = \"esc50\"  # Probing dataset to probe the target model\n",
    "        self.concept_set_file = \"data/concept_set/esc50.txt\"  # Path to txt file of concept set\n",
    "        self.network_class_file = \"data/network_class/esc50.txt\"  # Path to txt file of network's classification class\n",
    "        self.clip_model = \"ViT-B/32\"  # CLIP model version to use\n",
    "        self.clap_model = \"ViT-B/32\"  # CLAP model version to use\n",
    "        self.sentence_transformer = 'all-MiniLM-L12-v2'  # Sentence transformer to use\n",
    "        self.batch_size = 1  # Batch size when running CLIP/target model\n",
    "        self.device = \"cuda\"  # Whether to use GPU/which GPU\n",
    "        self.seed = 20  # Seed number\n",
    "        self.num_of_gpus = 1  # Number of available GPUs for vllm\n",
    "        self.pool_mode = \"avg\"  # Aggregation function for channels\n",
    "        self.scoring_func = False  # Scoring function flag\n",
    "\n",
    "        # Directory paths\n",
    "        self.audio_description_dir = \"audio_description\"  # Directory to save audio descriptions\n",
    "        self.audio_dir = \"save_audios\"  # Directory to save audio\n",
    "        self.save_activation_dir = \"saved_activations\"  # Directory to save activation values\n",
    "        self.save_summary_dir = \"summaries\"  # Directory to save summaries\n",
    "        self.save_discriminative_sample_dir = \"discriminative_samples\"  # Directory to save discriminative samples\n",
    "        self.save_prediction_dir = \"prediction\"  # Directory to save prediction\n",
    "        self.save_interpretability_dir = 'interpretability'  # Directory to save interpretability experiments\n",
    "\n",
    "        # Discriminative settings\n",
    "        self.discriminative_type = \"highly\"  # Type of discriminative samples\n",
    "        self.post_process_type = \"sim\"  # Post-processing type\n",
    "        self.mutual_info_threshold = 0.6  # Mutual information threshold\n",
    "        self.K = 5  # Top-K highly/lowly-activated audio\n",
    "        self.clusters = 11  # Number of clusters\n",
    "\n",
    "        # LLM settings\n",
    "        self.llm = \"meta-llama/Llama-2-13b-chat-hf\"  # LLM to use\n",
    "        self.top_p = 1.0  # Sampling parameter: top-p\n",
    "        self.temperature = 1.0  # Sampling parameter: temperature\n",
    "        self.max_tokens = 128  # Sampling parameter: max tokens\n",
    "        self.ICL_topk = 1  # Experiments of top5 or top1 accuracy of ICL\n",
    "\n",
    "        # Pruning settings\n",
    "        self.save_pruning_dir = \"pruning_result\"  # Directory to save pruning results\n",
    "        self.max_pruned_num = 3000  # Maximum number of pruned neurons\n",
    "        self.pruned_concepts = [\"water_drops\"]  # Concepts to be ablated\n",
    "        self.pruning_strategy = \"ocp\"  # Method to decide pruned neurons (random, db, tab, ocp)"
   ]
  },
  {
   "cell_type": "code",
   "execution_count": 8,
   "metadata": {},
   "outputs": [],
   "source": [
    "args = Arguments()"
   ]
  },
  {
   "cell_type": "markdown",
   "metadata": {},
   "source": [
    "### Pruning"
   ]
  },
  {
   "cell_type": "code",
   "execution_count": 9,
   "metadata": {},
   "outputs": [
    {
     "name": "stderr",
     "output_type": "stream",
     "text": [
      "Found cached dataset parquet (/work/yuxiang1234/cache/ashraq___parquet/ashraq--esc50-1000c3b73cc1500f/0.0.0/14a00e99c0d15a23649d0db8944380ac81082d4b021f398733dd84f3a6c569a7)\n"
     ]
    },
    {
     "data": {
      "application/vnd.jupyter.widget-view+json": {
       "model_id": "3cd2982bf92f4fa0b5a9e7896713f5ad",
       "version_major": 2,
       "version_minor": 0
      },
      "text/plain": [
       "  0%|          | 0/1 [00:00<?, ?it/s]"
      ]
     },
     "metadata": {},
     "output_type": "display_data"
    },
    {
     "name": "stderr",
     "output_type": "stream",
     "text": [
      "Loading cached processed dataset at /work/yuxiang1234/cache/ashraq___parquet/ashraq--esc50-1000c3b73cc1500f/0.0.0/14a00e99c0d15a23649d0db8944380ac81082d4b021f398733dd84f3a6c569a7/cache-8aa9d6610af22639.arrow\n",
      "Loading cached processed dataset at /work/yuxiang1234/cache/ashraq___parquet/ashraq--esc50-1000c3b73cc1500f/0.0.0/14a00e99c0d15a23649d0db8944380ac81082d4b021f398733dd84f3a6c569a7/cache-d13104c871fa4d92.arrow\n",
      "100%|██████████| 55346/55346 [00:02<00:00, 21023.04it/s]\n",
      "100%|██████████| 4/4 [00:08<00:00,  2.21s/it]\n"
     ]
    },
    {
     "name": "stdout",
     "output_type": "stream",
     "text": [
      "None mask_cnt:  0\n"
     ]
    },
    {
     "name": "stderr",
     "output_type": "stream",
     "text": [
      "100%|██████████| 55346/55346 [00:03<00:00, 17639.99it/s]\n",
      "100%|██████████| 4/4 [00:08<00:00,  2.20s/it]\n"
     ]
    },
    {
     "name": "stdout",
     "output_type": "stream",
     "text": [
      "dog mask_cnt:  2158\n"
     ]
    },
    {
     "name": "stderr",
     "output_type": "stream",
     "text": [
      "100%|██████████| 55346/55346 [00:02<00:00, 20561.18it/s]\n",
      "100%|██████████| 4/4 [00:08<00:00,  2.21s/it]\n"
     ]
    },
    {
     "name": "stdout",
     "output_type": "stream",
     "text": [
      "chirping_birds mask_cnt:  4315\n"
     ]
    },
    {
     "name": "stderr",
     "output_type": "stream",
     "text": [
      "100%|██████████| 55346/55346 [00:02<00:00, 20298.13it/s]\n",
      "100%|██████████| 4/4 [00:08<00:00,  2.21s/it]\n"
     ]
    },
    {
     "name": "stdout",
     "output_type": "stream",
     "text": [
      "vacuum_cleaner mask_cnt:  732\n"
     ]
    },
    {
     "name": "stderr",
     "output_type": "stream",
     "text": [
      "100%|██████████| 55346/55346 [00:02<00:00, 20525.65it/s]\n",
      "100%|██████████| 4/4 [00:08<00:00,  2.20s/it]\n"
     ]
    },
    {
     "name": "stdout",
     "output_type": "stream",
     "text": [
      "thunderstorm mask_cnt:  2003\n"
     ]
    },
    {
     "name": "stderr",
     "output_type": "stream",
     "text": [
      "100%|██████████| 55346/55346 [00:03<00:00, 17505.46it/s]\n",
      "100%|██████████| 4/4 [00:08<00:00,  2.21s/it]\n"
     ]
    },
    {
     "name": "stdout",
     "output_type": "stream",
     "text": [
      "door_wood_knock mask_cnt:  5307\n"
     ]
    },
    {
     "name": "stderr",
     "output_type": "stream",
     "text": [
      "100%|██████████| 55346/55346 [00:02<00:00, 20002.63it/s]\n",
      "100%|██████████| 4/4 [00:08<00:00,  2.22s/it]\n"
     ]
    },
    {
     "name": "stdout",
     "output_type": "stream",
     "text": [
      "can_opening mask_cnt:  257\n"
     ]
    },
    {
     "name": "stderr",
     "output_type": "stream",
     "text": [
      "100%|██████████| 55346/55346 [00:02<00:00, 20380.36it/s]\n",
      "100%|██████████| 4/4 [00:08<00:00,  2.21s/it]\n"
     ]
    },
    {
     "name": "stdout",
     "output_type": "stream",
     "text": [
      "crow mask_cnt:  614\n"
     ]
    },
    {
     "name": "stderr",
     "output_type": "stream",
     "text": [
      "100%|██████████| 55346/55346 [00:02<00:00, 20501.56it/s]\n",
      "100%|██████████| 4/4 [00:08<00:00,  2.21s/it]\n"
     ]
    },
    {
     "name": "stdout",
     "output_type": "stream",
     "text": [
      "clapping mask_cnt:  1885\n"
     ]
    },
    {
     "name": "stderr",
     "output_type": "stream",
     "text": [
      "100%|██████████| 55346/55346 [00:03<00:00, 17072.33it/s]\n",
      "100%|██████████| 4/4 [00:08<00:00,  2.21s/it]\n"
     ]
    },
    {
     "name": "stdout",
     "output_type": "stream",
     "text": [
      "fireworks mask_cnt:  2202\n"
     ]
    },
    {
     "name": "stderr",
     "output_type": "stream",
     "text": [
      "100%|██████████| 55346/55346 [00:02<00:00, 20318.19it/s]\n",
      "100%|██████████| 4/4 [00:08<00:00,  2.20s/it]\n"
     ]
    },
    {
     "name": "stdout",
     "output_type": "stream",
     "text": [
      "chainsaw mask_cnt:  4535\n"
     ]
    },
    {
     "name": "stderr",
     "output_type": "stream",
     "text": [
      "100%|██████████| 55346/55346 [00:02<00:00, 20146.36it/s]\n",
      "100%|██████████| 4/4 [00:08<00:00,  2.21s/it]\n"
     ]
    },
    {
     "name": "stdout",
     "output_type": "stream",
     "text": [
      "airplane mask_cnt:  1473\n"
     ]
    },
    {
     "name": "stderr",
     "output_type": "stream",
     "text": [
      "100%|██████████| 55346/55346 [00:02<00:00, 20545.63it/s]\n",
      "100%|██████████| 4/4 [00:08<00:00,  2.19s/it]\n"
     ]
    },
    {
     "name": "stdout",
     "output_type": "stream",
     "text": [
      "mouse_click mask_cnt:  11897\n"
     ]
    },
    {
     "name": "stderr",
     "output_type": "stream",
     "text": [
      "100%|██████████| 55346/55346 [00:03<00:00, 16205.08it/s]\n",
      "100%|██████████| 4/4 [00:08<00:00,  2.21s/it]\n"
     ]
    },
    {
     "name": "stdout",
     "output_type": "stream",
     "text": [
      "pouring_water mask_cnt:  2838\n"
     ]
    },
    {
     "name": "stderr",
     "output_type": "stream",
     "text": [
      "100%|██████████| 55346/55346 [00:02<00:00, 20497.62it/s]\n",
      "100%|██████████| 4/4 [00:08<00:00,  2.22s/it]\n"
     ]
    },
    {
     "name": "stdout",
     "output_type": "stream",
     "text": [
      "train mask_cnt:  2775\n"
     ]
    },
    {
     "name": "stderr",
     "output_type": "stream",
     "text": [
      "100%|██████████| 55346/55346 [00:02<00:00, 19461.45it/s]\n",
      "100%|██████████| 4/4 [00:08<00:00,  2.21s/it]\n"
     ]
    },
    {
     "name": "stdout",
     "output_type": "stream",
     "text": [
      "sheep mask_cnt:  251\n"
     ]
    },
    {
     "name": "stderr",
     "output_type": "stream",
     "text": [
      "100%|██████████| 55346/55346 [00:02<00:00, 20640.69it/s]\n",
      "100%|██████████| 4/4 [00:11<00:00,  2.89s/it]\n"
     ]
    },
    {
     "name": "stdout",
     "output_type": "stream",
     "text": [
      "water_drops mask_cnt:  2651\n"
     ]
    },
    {
     "name": "stderr",
     "output_type": "stream",
     "text": [
      "100%|██████████| 55346/55346 [00:02<00:00, 19268.18it/s]\n",
      "100%|██████████| 4/4 [00:09<00:00,  2.34s/it]\n"
     ]
    },
    {
     "name": "stdout",
     "output_type": "stream",
     "text": [
      "church_bells mask_cnt:  2484\n"
     ]
    },
    {
     "name": "stderr",
     "output_type": "stream",
     "text": [
      "100%|██████████| 55346/55346 [00:03<00:00, 17442.09it/s]\n",
      "100%|██████████| 4/4 [00:12<00:00,  3.07s/it]\n"
     ]
    },
    {
     "name": "stdout",
     "output_type": "stream",
     "text": [
      "clock_alarm mask_cnt:  6132\n"
     ]
    },
    {
     "name": "stderr",
     "output_type": "stream",
     "text": [
      "100%|██████████| 55346/55346 [00:02<00:00, 20357.54it/s]\n",
      "100%|██████████| 4/4 [00:13<00:00,  3.25s/it]\n"
     ]
    },
    {
     "name": "stdout",
     "output_type": "stream",
     "text": [
      "keyboard_typing mask_cnt:  2313\n"
     ]
    },
    {
     "name": "stderr",
     "output_type": "stream",
     "text": [
      "100%|██████████| 55346/55346 [00:02<00:00, 20214.28it/s]\n",
      "100%|██████████| 4/4 [00:12<00:00,  3.10s/it]\n"
     ]
    },
    {
     "name": "stdout",
     "output_type": "stream",
     "text": [
      "wind mask_cnt:  1856\n"
     ]
    },
    {
     "name": "stderr",
     "output_type": "stream",
     "text": [
      "100%|██████████| 55346/55346 [00:02<00:00, 20006.49it/s]\n",
      "100%|██████████| 4/4 [00:08<00:00,  2.21s/it]\n"
     ]
    },
    {
     "name": "stdout",
     "output_type": "stream",
     "text": [
      "footsteps mask_cnt:  384\n"
     ]
    },
    {
     "name": "stderr",
     "output_type": "stream",
     "text": [
      "100%|██████████| 55346/55346 [00:03<00:00, 17223.20it/s]\n",
      "100%|██████████| 4/4 [00:08<00:00,  2.22s/it]\n"
     ]
    },
    {
     "name": "stdout",
     "output_type": "stream",
     "text": [
      "frog mask_cnt:  894\n"
     ]
    },
    {
     "name": "stderr",
     "output_type": "stream",
     "text": [
      "100%|██████████| 55346/55346 [00:02<00:00, 20353.78it/s]\n",
      "100%|██████████| 4/4 [00:08<00:00,  2.21s/it]\n"
     ]
    },
    {
     "name": "stdout",
     "output_type": "stream",
     "text": [
      "cow mask_cnt:  964\n"
     ]
    },
    {
     "name": "stderr",
     "output_type": "stream",
     "text": [
      "100%|██████████| 55346/55346 [00:02<00:00, 20052.51it/s]\n",
      "100%|██████████| 4/4 [00:08<00:00,  2.21s/it]\n"
     ]
    },
    {
     "name": "stdout",
     "output_type": "stream",
     "text": [
      "brushing_teeth mask_cnt:  1057\n"
     ]
    },
    {
     "name": "stderr",
     "output_type": "stream",
     "text": [
      "100%|██████████| 55346/55346 [00:02<00:00, 20507.00it/s]\n",
      "100%|██████████| 4/4 [00:08<00:00,  2.20s/it]\n"
     ]
    },
    {
     "name": "stdout",
     "output_type": "stream",
     "text": [
      "car_horn mask_cnt:  2093\n"
     ]
    },
    {
     "name": "stderr",
     "output_type": "stream",
     "text": [
      "100%|██████████| 55346/55346 [00:03<00:00, 16948.82it/s]\n",
      "100%|██████████| 4/4 [00:08<00:00,  2.21s/it]\n"
     ]
    },
    {
     "name": "stdout",
     "output_type": "stream",
     "text": [
      "crackling_fire mask_cnt:  1329\n"
     ]
    },
    {
     "name": "stderr",
     "output_type": "stream",
     "text": [
      "100%|██████████| 55346/55346 [00:02<00:00, 20207.89it/s]\n",
      "100%|██████████| 4/4 [00:08<00:00,  2.21s/it]\n"
     ]
    },
    {
     "name": "stdout",
     "output_type": "stream",
     "text": [
      "helicopter mask_cnt:  4698\n"
     ]
    },
    {
     "name": "stderr",
     "output_type": "stream",
     "text": [
      "100%|██████████| 55346/55346 [00:02<00:00, 20237.44it/s]\n",
      "100%|██████████| 4/4 [00:08<00:00,  2.21s/it]\n"
     ]
    },
    {
     "name": "stdout",
     "output_type": "stream",
     "text": [
      "drinking_sipping mask_cnt:  245\n"
     ]
    },
    {
     "name": "stderr",
     "output_type": "stream",
     "text": [
      "100%|██████████| 55346/55346 [00:02<00:00, 20238.31it/s]\n",
      "100%|██████████| 4/4 [00:08<00:00,  2.21s/it]\n"
     ]
    },
    {
     "name": "stdout",
     "output_type": "stream",
     "text": [
      "rain mask_cnt:  1448\n"
     ]
    },
    {
     "name": "stderr",
     "output_type": "stream",
     "text": [
      "100%|██████████| 55346/55346 [00:03<00:00, 16417.29it/s]\n",
      "100%|██████████| 4/4 [00:08<00:00,  2.21s/it]\n"
     ]
    },
    {
     "name": "stdout",
     "output_type": "stream",
     "text": [
      "insects mask_cnt:  336\n"
     ]
    },
    {
     "name": "stderr",
     "output_type": "stream",
     "text": [
      "100%|██████████| 55346/55346 [00:02<00:00, 20042.84it/s]\n",
      "100%|██████████| 4/4 [00:08<00:00,  2.21s/it]\n"
     ]
    },
    {
     "name": "stdout",
     "output_type": "stream",
     "text": [
      "laughing mask_cnt:  370\n"
     ]
    },
    {
     "name": "stderr",
     "output_type": "stream",
     "text": [
      "100%|██████████| 55346/55346 [00:02<00:00, 20520.19it/s]\n",
      "100%|██████████| 4/4 [00:08<00:00,  2.21s/it]\n"
     ]
    },
    {
     "name": "stdout",
     "output_type": "stream",
     "text": [
      "hen mask_cnt:  5\n"
     ]
    },
    {
     "name": "stderr",
     "output_type": "stream",
     "text": [
      "100%|██████████| 55346/55346 [00:02<00:00, 20313.75it/s]\n",
      "100%|██████████| 4/4 [00:08<00:00,  2.21s/it]\n"
     ]
    },
    {
     "name": "stdout",
     "output_type": "stream",
     "text": [
      "engine mask_cnt:  5867\n"
     ]
    },
    {
     "name": "stderr",
     "output_type": "stream",
     "text": [
      "100%|██████████| 55346/55346 [00:02<00:00, 20126.76it/s]\n",
      "100%|██████████| 4/4 [00:08<00:00,  2.21s/it]\n"
     ]
    },
    {
     "name": "stdout",
     "output_type": "stream",
     "text": [
      "breathing mask_cnt:  857\n"
     ]
    },
    {
     "name": "stderr",
     "output_type": "stream",
     "text": [
      "100%|██████████| 55346/55346 [00:03<00:00, 17367.89it/s]\n",
      "100%|██████████| 4/4 [00:08<00:00,  2.21s/it]\n"
     ]
    },
    {
     "name": "stdout",
     "output_type": "stream",
     "text": [
      "crying_baby mask_cnt:  1234\n"
     ]
    },
    {
     "name": "stderr",
     "output_type": "stream",
     "text": [
      "100%|██████████| 55346/55346 [00:02<00:00, 20261.95it/s]\n",
      "100%|██████████| 4/4 [00:08<00:00,  2.21s/it]\n"
     ]
    },
    {
     "name": "stdout",
     "output_type": "stream",
     "text": [
      "hand_saw mask_cnt:  636\n"
     ]
    },
    {
     "name": "stderr",
     "output_type": "stream",
     "text": [
      "100%|██████████| 55346/55346 [00:02<00:00, 20521.34it/s]\n",
      "100%|██████████| 4/4 [00:08<00:00,  2.21s/it]\n"
     ]
    },
    {
     "name": "stdout",
     "output_type": "stream",
     "text": [
      "coughing mask_cnt:  983\n"
     ]
    },
    {
     "name": "stderr",
     "output_type": "stream",
     "text": [
      "100%|██████████| 55346/55346 [00:02<00:00, 20747.49it/s]\n",
      "100%|██████████| 4/4 [00:08<00:00,  2.22s/it]\n"
     ]
    },
    {
     "name": "stdout",
     "output_type": "stream",
     "text": [
      "glass_breaking mask_cnt:  3883\n"
     ]
    },
    {
     "name": "stderr",
     "output_type": "stream",
     "text": [
      "100%|██████████| 55346/55346 [00:03<00:00, 16914.38it/s]\n",
      "100%|██████████| 4/4 [00:08<00:00,  2.21s/it]\n"
     ]
    },
    {
     "name": "stdout",
     "output_type": "stream",
     "text": [
      "snoring mask_cnt:  1273\n"
     ]
    },
    {
     "name": "stderr",
     "output_type": "stream",
     "text": [
      "100%|██████████| 55346/55346 [00:02<00:00, 20189.72it/s]\n",
      "100%|██████████| 4/4 [00:08<00:00,  2.21s/it]\n"
     ]
    },
    {
     "name": "stdout",
     "output_type": "stream",
     "text": [
      "toilet_flush mask_cnt:  1073\n"
     ]
    },
    {
     "name": "stderr",
     "output_type": "stream",
     "text": [
      "100%|██████████| 55346/55346 [00:02<00:00, 20409.93it/s]\n",
      "100%|██████████| 4/4 [00:08<00:00,  2.21s/it]\n"
     ]
    },
    {
     "name": "stdout",
     "output_type": "stream",
     "text": [
      "pig mask_cnt:  1005\n"
     ]
    },
    {
     "name": "stderr",
     "output_type": "stream",
     "text": [
      "100%|██████████| 55346/55346 [00:02<00:00, 20029.20it/s]\n",
      "100%|██████████| 4/4 [00:08<00:00,  2.21s/it]\n"
     ]
    },
    {
     "name": "stdout",
     "output_type": "stream",
     "text": [
      "washing_machine mask_cnt:  2809\n"
     ]
    },
    {
     "name": "stderr",
     "output_type": "stream",
     "text": [
      "100%|██████████| 55346/55346 [00:03<00:00, 16548.51it/s]\n",
      "100%|██████████| 4/4 [00:08<00:00,  2.23s/it]\n"
     ]
    },
    {
     "name": "stdout",
     "output_type": "stream",
     "text": [
      "clock_tick mask_cnt:  4478\n"
     ]
    },
    {
     "name": "stderr",
     "output_type": "stream",
     "text": [
      "100%|██████████| 55346/55346 [00:02<00:00, 19995.44it/s]\n",
      "100%|██████████| 4/4 [00:08<00:00,  2.21s/it]\n"
     ]
    },
    {
     "name": "stdout",
     "output_type": "stream",
     "text": [
      "sneezing mask_cnt:  248\n"
     ]
    },
    {
     "name": "stderr",
     "output_type": "stream",
     "text": [
      "100%|██████████| 55346/55346 [00:02<00:00, 20851.41it/s]\n",
      "100%|██████████| 4/4 [00:08<00:00,  2.22s/it]\n"
     ]
    },
    {
     "name": "stdout",
     "output_type": "stream",
     "text": [
      "rooster mask_cnt:  1237\n"
     ]
    },
    {
     "name": "stderr",
     "output_type": "stream",
     "text": [
      "100%|██████████| 55346/55346 [00:02<00:00, 20111.71it/s]\n",
      "100%|██████████| 4/4 [00:08<00:00,  2.21s/it]\n"
     ]
    },
    {
     "name": "stdout",
     "output_type": "stream",
     "text": [
      "sea_waves mask_cnt:  1027\n"
     ]
    },
    {
     "name": "stderr",
     "output_type": "stream",
     "text": [
      "100%|██████████| 55346/55346 [00:02<00:00, 20473.88it/s]\n",
      "100%|██████████| 4/4 [00:08<00:00,  2.21s/it]\n"
     ]
    },
    {
     "name": "stdout",
     "output_type": "stream",
     "text": [
      "siren mask_cnt:  3639\n"
     ]
    },
    {
     "name": "stderr",
     "output_type": "stream",
     "text": [
      "100%|██████████| 55346/55346 [00:03<00:00, 17380.37it/s]\n",
      "100%|██████████| 4/4 [00:08<00:00,  2.25s/it]\n"
     ]
    },
    {
     "name": "stdout",
     "output_type": "stream",
     "text": [
      "cat mask_cnt:  842\n"
     ]
    },
    {
     "name": "stderr",
     "output_type": "stream",
     "text": [
      "100%|██████████| 55346/55346 [00:02<00:00, 20535.48it/s]\n",
      "100%|██████████| 4/4 [00:08<00:00,  2.20s/it]\n"
     ]
    },
    {
     "name": "stdout",
     "output_type": "stream",
     "text": [
      "door_wood_creaks mask_cnt:  5295\n"
     ]
    },
    {
     "name": "stderr",
     "output_type": "stream",
     "text": [
      "100%|██████████| 55346/55346 [00:02<00:00, 20299.12it/s]\n",
      "100%|██████████| 4/4 [00:08<00:00,  2.22s/it]\n"
     ]
    },
    {
     "name": "stdout",
     "output_type": "stream",
     "text": [
      "crickets mask_cnt:  1622\n"
     ]
    }
   ],
   "source": [
    "random.seed(args.seed)\n",
    "\n",
    "label_to_cls = get_label_to_cls(args.network_class_file)\n",
    "\n",
    "if args.pruning_strategy == \"tab\":\n",
    "\tprediction_file = os.path.join(args.save_prediction_dir, f\"tab-{args.target_name}-top{args.K}.json\")\n",
    "elif args.pruning_strategy == \"db\": \n",
    "\tprediction_file = os.path.join(args.save_prediction_dir, f\"db-{args.target_name}-top{args.K}.json\")\n",
    "# \"random\" needs neurons names\n",
    "elif args.pruning_strategy == \"ocp\" or args.pruning_strategy == \"random\": \n",
    "\tprediction_file = os.path.join(args.save_summary_dir, f\"calibration_{args.target_name}_{args.probing_dataset}_{get_basename(args.concept_set_file)}_top{args.K}.json\")\n",
    "\n",
    "prediction = read_json(prediction_file)\n",
    "if args.pruning_strategy == \"random\":\n",
    "\t_ = list(prediction.items())\n",
    "\trandom.Random(args.seed).shuffle(_)\n",
    "\tprediction = dict(_)\n",
    "\n",
    "if \"ast\" in args.target_name:\n",
    "\tinput_dimension = {\"attention_output\":768, \"intermediate\": 768, \"output\":3072}\n",
    "\tprocessor = AutoProcessor.from_pretrained(\"MIT/ast-finetuned-audioset-10-10-0.4593\")\t\n",
    "elif \"beats\" in args.target_name: \n",
    "\tinput_dimension = {\"1\": 768, \"2\": 3072}\n",
    "\tprocessor = None\n",
    "\n",
    "dataset = load_dataset(\"ashraq/esc50\")\n",
    "dev_dataset = ESC50Dataset(dataset, processor, mode='dev')\n",
    "\n",
    "\n",
    "dev_loader = DataLoader(dev_dataset, batch_size=128, shuffle=False, pin_memory=True, collate_fn=collate_batch)\n",
    "\n",
    "results = {}\n",
    "\n",
    "for cls_id, cls_name in label_to_cls.items():\n",
    "\n",
    "\tmask_cnt = 0 \n",
    "\tpruned_neuron_record = defaultdict(int)\n",
    "\tmasked_out_neurons = []\n",
    "\tmasked_neuron = defaultdict(list)\n",
    "\tmasked_neuron_bias = defaultdict(list)\n",
    "\t\n",
    "\tmodel = get_target_model(args.target_name, device=args.device)\n",
    "\n",
    "\tfor key, _ in tqdm(prediction.items()):\n",
    "\t\tlayer = key.split('#')[0]\n",
    "\n",
    "\t\tif layer == 'fc':\n",
    "\t\t\tcontinue\n",
    "\n",
    "\t\tlayer = layer.split('_')\n",
    "\n",
    "\t\tlayer_name = layer[1]\n",
    "\t\tlayer_num = layer[0]\n",
    "\n",
    "\t\tif len(layer) == 3:\n",
    "\t\t\tlayer_name = layer[1] + '_' + layer[2]\n",
    "\t\t\n",
    "\t\tlayer_id = layer_num.replace(\"layer\", \"\")\n",
    "\n",
    "\t\tneuron_id = key.split('#')[1]\n",
    "\t\tdim = input_dimension[layer_name]\n",
    "\n",
    "\t\tflag = False\n",
    "\t\tif args.pruning_strategy == \"ocp\":\n",
    "\t\t\tnouns = prediction[key]['nouns']\n",
    "\n",
    "\t\t\tif cls_name is not None:\n",
    "\t\t\t\tfor n in nouns:\n",
    "\t\t\t\t\tif n in cls_name: \n",
    "\t\t\t\t\t\tflag = True \n",
    "\t\t\t\t\t\tbreak\t\t\n",
    "\n",
    "\t\t# We select the best simlarity function by last layer dissection accuracy \n",
    "\t\telif args.pruning_strategy == \"tab\" :\n",
    "\t\t\tif cls_name is not None and cls_name in prediction[key][\"soft_wpmi\"][\"prediction\"][:3]:\n",
    "\t\t\t\tflag = True\n",
    "\t\telif args.pruning_strategy == \"db\":\n",
    "\t\t\tif cls_name is not None and cls_name in prediction[key][\"cos_similarity_cubed\"][\"prediction\"][:3]:\n",
    "\t\t\t\tflag = True\n",
    "\t\telif args.pruning_strategy == \"random\":\n",
    "\t\t\tif mask_cnt < args.max_pruned_num:\n",
    "\t\t\t\tflag = True\n",
    "\n",
    "\t\tif flag:\n",
    "\t\t\tpruned_neuron_record[layer_num + '_' + layer_name] += 1\n",
    "\t\t\tmask_cnt += 1\n",
    "\t\t\tmasked_neuron[layer_num + \"_\" + layer_name].append([0 for _ in range(dim)])\n",
    "\t\t\tmasked_out_neurons.append(f\"{layer_name}_{layer_id}#{neuron_id}\")\n",
    "\t\t\tmasked_neuron_bias[layer_num + \"_\" + layer_name].append(0)\n",
    "\t\telse:\n",
    "\t\t\tmasked_neuron[layer_num + \"_\" + layer_name].append([1 for _ in range(dim)])\n",
    "\t\t\tmasked_neuron_bias[layer_num + \"_\" + layer_name].append(1)\n",
    "\n",
    "\tfor key, mask in masked_neuron.items():\n",
    "\t\tlayer_id = key.split(\"_\")[0].replace(\"layer\", \"\")\n",
    "\t\tlayer_id = int(layer_id)\n",
    "\t\tlayer_name = key.split(\"_\")[1]\n",
    "\t\t\n",
    "\t\tif \"ast\" in args.target_name:\n",
    "\t\t\tif layer_name == \"attention\":\n",
    "\t\t\t\tmodule = model.audio_spectrogram_transformer.encoder.layer[layer_id].attention.output.dense\n",
    "\t\t\telif layer_name == \"intermediate\":\n",
    "\t\t\t\tmodule = model.audio_spectrogram_transformer.encoder.layer[layer_id].intermediate.dense\n",
    "\t\t\telif layer_name == \"output\":\n",
    "\t\t\t\tmodule = model.audio_spectrogram_transformer.encoder.layer[layer_id].output.dense\n",
    "\t\telif \"beats\" in args.target_name: \n",
    "\t\t\tif layer_name == \"1\":\n",
    "\t\t\t\tmodule = model.beats.encoder.layers[layer_id].fc1\n",
    "\t\t\telif layer_name == \"2\": \n",
    "\t\t\t\tmodule = model.beats.encoder.layers[layer_id].fc2\n",
    "\n",
    "\t\tweight_mask = torch.tensor(mask).to(\"cuda\")\n",
    "\t\tbias_mask = torch.tensor(masked_neuron_bias[key]).to(\"cuda\")\n",
    "\n",
    "\t\tprune.custom_from_mask(module, 'weight', mask=weight_mask)\n",
    "\t\tprune.custom_from_mask(module, 'bias', mask=bias_mask)\n",
    "\t\n",
    "\twrong_record = []\n",
    "\tcorrect_by_class, total_by_class = defaultdict(int), defaultdict(int)\n",
    "\tpred_by_class = defaultdict(int)\n",
    "\tcorrect, total = 0, 0\n",
    "\tconfidence_by_class = defaultdict(list)\n",
    "\t\n",
    "\twith torch.no_grad():\n",
    "\t\tfor batch in tqdm(dev_loader):\n",
    "\t\t\tbatch[\"input_values\"] = batch[\"input_values\"].to(\"cuda\")\n",
    "\t\t\tbatch[\"labels\"] = batch[\"labels\"].to(\"cuda\")\n",
    "\t\t\toutputs = model(batch[\"input_values\"])\n",
    "\t\t\tif \"ast\" in args.target_name:\n",
    "\t\t\t\toutputs = outputs.logits\n",
    "\t\t\toutputs_list = outputs.detach().cpu().tolist()\n",
    "\t\t\toutputs = torch.argmax(outputs, dim = -1)\n",
    "\t\t\tlabels = batch[\"labels\"]\n",
    "\t\t\tcorrect += torch.sum(outputs == labels).detach().cpu().item()\n",
    "\t\t\ttotal += outputs.shape[0]\t\n",
    "\t\t\t\n",
    "\t\t\toutputs = outputs.detach().cpu().tolist()\n",
    "\t\t\tlabels = labels.detach().cpu().tolist()\n",
    "\t\t\tfor idx, (pred, gt, filename) in enumerate(zip(outputs, labels, batch['filenames'])):\n",
    "\t\t\t\tpred = label_to_cls[pred]\n",
    "\t\t\t\tgt = label_to_cls[gt]\n",
    "\t\t\t\tif (pred == gt):\n",
    "\t\t\t\t\tcorrect_by_class[pred] += 1\n",
    "\t\t\t\telse:\n",
    "\t\t\t\t\twrong_record.append(filename)\n",
    "\t\t\t\tpred_by_class[pred] += 1\n",
    "\t\t\t\ttotal_by_class[gt] += 1\n",
    "\t\t\t\tconfidence_by_class[gt].append(outputs_list[idx])\n",
    "\n",
    "\tresults[cls_name] = {}\n",
    "\tresults[cls_name][\"masked_count\"] = len(masked_out_neurons)\n",
    "\tresults[cls_name][\"masked_neuron\"] = masked_out_neurons\n",
    "\tresults[cls_name][\"correct\"] = correct\n",
    "\tresults[cls_name][\"total\"] = total\n",
    "\tresults[cls_name][\"correct_by_class\"] = correct_by_class\n",
    "\tresults[cls_name][\"pred_by_class\"] = pred_by_class\n",
    "\tresults[cls_name][\"total_by_class\"] = total_by_class\n",
    "\tresults[cls_name][\"confidence\"] = confidence_by_class\n",
    "\tprint(cls_name, 'mask_cnt: ', mask_cnt)\n",
    "\n",
    "if not os.path.exists(args.save_pruning_dir):\n",
    "\tos.makedirs(args.save_pruning_dir)\n",
    "\n",
    "with open(os.path.join(args.save_pruning_dir, f\"class-{args.target_name}-{args.pruning_strategy}.json\"), \"w\") as f:\n",
    "\tjson.dump(results, fp = f,indent=2)"
   ]
  },
  {
   "cell_type": "code",
   "execution_count": null,
   "metadata": {},
   "outputs": [],
   "source": []
  },
  {
   "cell_type": "markdown",
   "metadata": {},
   "source": [
    "### Evaluation"
   ]
  },
  {
   "cell_type": "code",
   "execution_count": 10,
   "metadata": {},
   "outputs": [
    {
     "name": "stdout",
     "output_type": "stream",
     "text": [
      "ablating class before -1.6850083828228526\n",
      "ablating class after -11.091819011196494\n",
      "ablating class delta -9.406810628373641\n",
      "neuron_number 2210.18\n",
      "remaining class before -1.6850083828228524\n",
      "remaining class after -6.894974808408415\n",
      "remaining class delta -5.209966425585562\n"
     ]
    }
   ],
   "source": [
    "result_file = os.path.join(args.save_pruning_dir, f\"class-{args.target_name}-{args.pruning_strategy}.json\")\n",
    "\n",
    "results = read_json(result_file)\n",
    "\n",
    "classes = get_cls_label(args.network_class_file)\n",
    "\n",
    "# confidence on ablating class samples \n",
    "before_confidence = {}\n",
    "after_confidence = {}\n",
    "neuron_number = {}\n",
    "\n",
    "# confidence on remaining class samples\n",
    "remaining_class_before_confidence = defaultdict(list)\n",
    "remaining_class_after_confidence = defaultdict(list)\n",
    "\n",
    "origin = results[\"null\"]\n",
    "origin_acc = origin[\"correct\"] / origin[\"total\"]\n",
    "origin_confidence_by_class = origin[\"confidence\"]\n",
    "\n",
    "for cls_name, object in results.items():\n",
    "\n",
    "\tif cls_name == \"null\":\n",
    "\t\tcontinue\n",
    "\n",
    "\tbefore_confidence[cls_name] = mean([logit[classes.index(cls_name)] for logit in origin_confidence_by_class[cls_name]])\n",
    "\tafter_confidence[cls_name] = mean([logit[classes.index(cls_name)] for logit in object[\"confidence\"][cls_name]])\n",
    "\n",
    "\tfor cursor, remaining_cls_name in enumerate(classes):\n",
    "\t\tif remaining_cls_name == cls_name:\n",
    "\t\t\tcontinue\n",
    "\t\tremaining_class_before_confidence[cls_name].append(mean([logit[classes.index(remaining_cls_name)] for logit in origin_confidence_by_class[remaining_cls_name]]))\n",
    "\t\tremaining_class_after_confidence[cls_name].append(mean([logit[classes.index(remaining_cls_name)] for logit in object[\"confidence\"][remaining_cls_name]]))\n",
    "\n",
    "\tremaining_class_before_confidence[cls_name] = mean(remaining_class_before_confidence[cls_name])\n",
    "\tremaining_class_after_confidence[cls_name] = mean(remaining_class_after_confidence[cls_name])\n",
    "\tneuron_number[cls_name] = object[\"masked_count\"]\n",
    "\n",
    "ablating_class_before = [value for value in before_confidence.values()]\n",
    "ablating_class_after = [value for value in after_confidence.values()]\n",
    "ablating_delta = (sum(ablating_class_after) - sum(ablating_class_before)) / len(ablating_class_before)\n",
    "\n",
    "remaining_class_before = [value for value in remaining_class_before_confidence.values()]\n",
    "remaining_class_after = [value for value in remaining_class_after_confidence.values()]\n",
    "remaining_delta = (sum(remaining_class_after) - sum(remaining_class_before)) / len(remaining_class_before)\n",
    "\n",
    "neuron_number = [value for value in neuron_number.values()]\n",
    "\n",
    "print(\"ablating class before\", mean(ablating_class_before))\n",
    "print(\"ablating class after\", mean(ablating_class_after))  \n",
    "print(\"ablating class delta\", ablating_delta) \n",
    "print(\"neuron_number\", mean(neuron_number))\n",
    "print(\"remaining class before\", mean(remaining_class_before))\n",
    "print(\"remaining class after\", mean(remaining_class_after))  \n",
    "print(\"remaining class delta\", remaining_delta) \n"
   ]
  }
 ],
 "metadata": {
  "kernelspec": {
   "display_name": "dissect",
   "language": "python",
   "name": "python3"
  },
  "language_info": {
   "codemirror_mode": {
    "name": "ipython",
    "version": 3
   },
   "file_extension": ".py",
   "mimetype": "text/x-python",
   "name": "python",
   "nbconvert_exporter": "python",
   "pygments_lexer": "ipython3",
   "version": "3.8.10"
  }
 },
 "nbformat": 4,
 "nbformat_minor": 2
}
