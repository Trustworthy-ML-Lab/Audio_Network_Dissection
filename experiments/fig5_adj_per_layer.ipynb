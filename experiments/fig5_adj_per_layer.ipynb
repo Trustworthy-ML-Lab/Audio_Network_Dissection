{
 "cells": [
  {
   "cell_type": "markdown",
   "metadata": {},
   "source": [
    "## this code plots the averaged number of adjective per layer"
   ]
  },
  {
   "cell_type": "code",
   "execution_count": null,
   "metadata": {},
   "outputs": [],
   "source": [
    "import os\n",
    "os.chdir('..')\n",
    "import numpy as np\n",
    "import json\n",
    "import matplotlib.pyplot as plt\n",
    "from collections import defaultdict"
   ]
  },
  {
   "cell_type": "markdown",
   "metadata": {},
   "source": [
    "## data loading and parameter setup"
   ]
  },
  {
   "cell_type": "code",
   "execution_count": null,
   "metadata": {},
   "outputs": [],
   "source": [
    "target_names = ['beats-esc50-frozen', 'beats-esc50-finetuned', 'ast-esc50']\n",
    "datas = []\n",
    "for name in target_names:\n",
    "    in_json = f'summaries/calibration_{name}_esc50_esc50_top5_processed.json'\n",
    "    with open(in_json, 'r') as f:\n",
    "        data = json.load(f)\n",
    "        datas.append(data)"
   ]
  },
  {
   "cell_type": "markdown",
   "metadata": {},
   "source": [
    "## get the averaged number of adjective per layer"
   ]
  },
  {
   "cell_type": "code",
   "execution_count": null,
   "metadata": {},
   "outputs": [],
   "source": [
    "model_layers = []\n",
    "for model_data in datas:\n",
    "    layers = defaultdict(list)\n",
    "    for k, item in model_data.items():\n",
    "        if 'fc' in k:\n",
    "            layer_id = '11'\n",
    "        else:\n",
    "            layer_id = k.split('_')[0].strip('layer')\n",
    "        \n",
    "        adjs = item['adj_after_rbf_llmf']\n",
    "        layers[layer_id].append(len(adjs))\n",
    "\n",
    "    layers = dict({int(k): sum(v)/len(v) for k, v in layers.items()})\n",
    "    layers = dict(sorted(layers.items()))\n",
    "    model_layers.append(layers)\n",
    "\n",
    "# beats-frozen\n",
    "a = np.array(list(model_layers[0].values()))\n",
    "# beats-finetuned\n",
    "b = np.array(list(model_layers[1].values()))\n",
    "# ast\n",
    "c = np.array(list(model_layers[2].values()))"
   ]
  },
  {
   "cell_type": "markdown",
   "metadata": {},
   "source": [
    "## plotting"
   ]
  },
  {
   "cell_type": "code",
   "execution_count": null,
   "metadata": {},
   "outputs": [],
   "source": [
    "x = range(1, 13)\n",
    "\n",
    "# Fit linear regression models\n",
    "coeff_a = np.polyfit(x, a, 1)\n",
    "coeff_b = np.polyfit(x, b, 1)\n",
    "coeff_c = np.polyfit(x, c, 1)\n",
    "\n",
    "# Predict y values\n",
    "y_pred_a = np.polyval(coeff_a, x)\n",
    "y_pred_b = np.polyval(coeff_b, x)\n",
    "y_pred_c = np.polyval(coeff_c, x)\n",
    "\n",
    "# Plot the data points and regression lines\n",
    "plt.rcParams.update({'font.size': 13})\n",
    "plt.scatter(x, c, label='AST', marker='^')\n",
    "plt.scatter(x, b, label='BEATs-finetuned', marker='o')\n",
    "plt.scatter(x, a, label='BEATs-frozen', marker='s')\n",
    "plt.plot(x, y_pred_c, linewidth=2)\n",
    "plt.plot(x, y_pred_b, linewidth=2)\n",
    "plt.plot(x, y_pred_a, linewidth=2)\n",
    "\n",
    "plt.xlabel('transformer layer', fontsize=20)\n",
    "plt.ylabel('avg. number of adjectives', fontsize=20)\n",
    "plt.legend()\n",
    "plt.grid(True)\n",
    "plt.savefig('adj_num_per_layer_regression.jpg', format='jpg', dpi=1000)\n",
    "plt.show()"
   ]
  }
 ],
 "metadata": {
  "language_info": {
   "name": "python"
  }
 },
 "nbformat": 4,
 "nbformat_minor": 2
}
